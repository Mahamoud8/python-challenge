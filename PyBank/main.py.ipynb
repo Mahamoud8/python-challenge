{
 "cells": [
  {
   "cell_type": "code",
   "execution_count": 16,
   "metadata": {},
   "outputs": [],
   "source": [
    "#The total number of months included in the dataset\n",
    "#The net total amount of \"Profit/Losses\" over the entire period\n",
    "#The average of the changes in \"Profit/Losses\" over the entire period\n",
    "#The greatest increase in profits (date and amount) over the entire period\n",
    "#The greatest decrease in losses (date and amount) over the entire period\n",
    "\n",
    "import os \n",
    "import csv"
   ]
  },
  {
   "cell_type": "code",
   "execution_count": 17,
   "metadata": {},
   "outputs": [],
   "source": [
    "#find file path\n",
    "budget_data = os.path.join(\"Resources\", \"budget_data.csv\")"
   ]
  },
  {
   "cell_type": "code",
   "execution_count": 18,
   "metadata": {},
   "outputs": [
    {
     "data": {
      "text/plain": [
       "'Resources\\\\budget_data.csv'"
      ]
     },
     "execution_count": 18,
     "metadata": {},
     "output_type": "execute_result"
    }
   ],
   "source": [
    "budget_data\n",
    "#check if path works"
   ]
  },
  {
   "cell_type": "code",
   "execution_count": 19,
   "metadata": {},
   "outputs": [],
   "source": [
    "#Define Variables for Total and Total Months\n",
    "total_profit= 0\n",
    "old_profit= 0\n",
    "total_months = 0\n",
    "profit_diff= [] "
   ]
  },
  {
   "cell_type": "code",
   "execution_count": 20,
   "metadata": {},
   "outputs": [
    {
     "name": "stdout",
     "output_type": "stream",
     "text": [
      "\n",
      "Financial Analysis\n",
      "------------------------------------------------------\n",
      "Total Months: 86\n",
      "Total: $38382578\n",
      "Average Change: $-2315.12\n",
      "Greatest Increase in Profits: Feb-2012 with $1926159\n",
      "Greatest Decrease in Profits: Sep-2013 with $-2196167\n",
      "------------------------------------------------------\n"
     ]
    }
   ],
   "source": [
    "#open csv file with header row\n",
    "with open(budget_data) as csvfile:\n",
    "    csvreader = csv.reader(csvfile, delimiter=',')\n",
    "    csv_header = next(csvreader)\n",
    "\n",
    "#find total rows     \n",
    "    for row in csvreader:\n",
    "        total_months = total_months +1\n",
    "        date= row[0]\n",
    "        row.append(total_months) \n",
    "        total_profit= total_profit + int(row[1])\n",
    "        change_profit = (int(row[1]) - old_profit)\n",
    "        profit_diff.append(change_profit)\n",
    "        old_profit= int(row[1])\n",
    "#.................................................................#\n",
    "#find if max/min in months      \n",
    "        if change_profit == max(profit_diff):\n",
    "            max_increase = change_profit\n",
    "            max_inc_months = row[0]\n",
    "        if change_profit == min(profit_diff):\n",
    "            max_decrease = change_profit\n",
    "            max_decr_months = row[0]\n",
    "\n",
    "# Checking 1st/last profit value             \n",
    "            \n",
    "        if row [2] ==1:\n",
    "            first_profit = int(row[1])\n",
    "            \n",
    "        if row[2] == total_months:\n",
    "            last_profit=int(row[1]) \n",
    "\n",
    "#Set final profits            \n",
    "        final_profit= int(row[1])      \n",
    "\n",
    "#finding the average in profit difference list    \n",
    "average_change = round ( (last_profit - first_profit) / (total_months - 1) , 2)\n",
    "\n",
    "\n",
    "# Print results to terminal\n",
    "print(\"\")\n",
    "print(\"Financial Analysis\")\n",
    "print(\"------------------------------------------------------\")\n",
    "print(f\"Total Months: {total_months}\")    \n",
    "print(f\"Total: ${total_profit}\")\n",
    "print(f\"Average Change: ${average_change}\")\n",
    "print(f\"Greatest Increase in Profits: {max_inc_months} with ${max_increase}\")\n",
    "print(f\"Greatest Decrease in Profits: {max_decr_months} with ${max_decrease}\")\n",
    "print(\"------------------------------------------------------\")"
   ]
  },
  {
   "cell_type": "code",
   "execution_count": 15,
   "metadata": {},
   "outputs": [],
   "source": [
    "#Write to budget analysis text file\n",
    "\n",
    "f = open(\"Budget Analysis.txt\", \"w\")\n",
    "\n",
    "f.write('Financial Analysis\\n')\n",
    "f.write('----------------------------\\n')\n",
    "f.write(f'Total Months: {total_months}\\n')\n",
    "f.write(f'Total: ${total_profit}\\n')\n",
    "f.write(f'Average Change: ${average_change}\\n')\n",
    "f.write(f'Greatest Increase in Profits: {max_inc_months} (${max_increase})\\n')\n",
    "f.write(f'Greatest Decrease in Profits: {max_decr_months} (${max_decrease})\\n')\n",
    "f.close()"
   ]
  },
  {
   "cell_type": "code",
   "execution_count": null,
   "metadata": {},
   "outputs": [],
   "source": []
  }
 ],
 "metadata": {
  "kernelspec": {
   "display_name": "Python 3",
   "language": "python",
   "name": "python3"
  },
  "language_info": {
   "codemirror_mode": {
    "name": "ipython",
    "version": 3
   },
   "file_extension": ".py",
   "mimetype": "text/x-python",
   "name": "python",
   "nbconvert_exporter": "python",
   "pygments_lexer": "ipython3",
   "version": "3.7.6"
  }
 },
 "nbformat": 4,
 "nbformat_minor": 4
}
