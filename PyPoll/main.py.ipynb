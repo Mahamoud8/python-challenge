{
 "cells": [
  {
   "cell_type": "code",
   "execution_count": 14,
   "metadata": {},
   "outputs": [],
   "source": [
    "#The total number of votes cast\n",
    "#A complete list of candidates who received votes\n",
    "#The percentage of votes each candidate won\n",
    "#The total number of votes each candidate won\n",
    "#The winner of the election based on popular vote.\n",
    "\n",
    "import os \n",
    "import csv"
   ]
  },
  {
   "cell_type": "code",
   "execution_count": 32,
   "metadata": {},
   "outputs": [],
   "source": [
    "#find file path\n",
    "election_data_csvpath = os.path.join(\"Resources\", \"election_data.csv\")"
   ]
  },
  {
   "cell_type": "code",
   "execution_count": 33,
   "metadata": {},
   "outputs": [
    {
     "data": {
      "text/plain": [
       "'Resources\\\\election_data.csv'"
      ]
     },
     "execution_count": 33,
     "metadata": {},
     "output_type": "execute_result"
    }
   ],
   "source": [
    "election_data_csvpath\n",
    "#check if path works"
   ]
  },
  {
   "cell_type": "code",
   "execution_count": 34,
   "metadata": {},
   "outputs": [],
   "source": [
    "#Define election data variables\n",
    "votes= {}\n",
    "total_votes= 0\n",
    "percentage = {}\n",
    "percentages_compare= []\n",
    "compare = {}\n",
    "winning_candi = \"winning candidate\""
   ]
  },
  {
   "cell_type": "code",
   "execution_count": 35,
   "metadata": {},
   "outputs": [
    {
     "name": "stdout",
     "output_type": "stream",
     "text": [
      "\n",
      "Election Result\n",
      "-------------------------\n",
      "Total votes: 3521001\n",
      "-------------------------\n",
      "Khan: 63.000% (2218231)\n",
      "Correy: 20.000% (704200)\n",
      "Li: 14.000% (492940)\n",
      "O'Tooley: 3.000% (105630)\n",
      "-------------------------\n",
      "Winner: Khan\n",
      "-------------------------\n"
     ]
    }
   ],
   "source": [
    "#open csv file with header row\n",
    "with open(election_data_csvpath) as csvfile:\n",
    "    csvreader = csv.reader(csvfile, delimiter=',')\n",
    "    csv_header = next(csvreader)\n",
    "\n",
    "#read through csv file\n",
    "    for row in csvreader:\n",
    "        total_votes = total_votes +1 # find total number of votes\n",
    "        row.append(total_votes)\n",
    "        \n",
    "#Find unique candidates, while adding number of votes        \n",
    "        if row[2] not in votes:\n",
    "            votes[row[2]]= 1\n",
    "        else:\n",
    "            votes[row[2]] += 1\n",
    "            \n",
    "#.................................................................#\n",
    "\n",
    "#find percentages for all candidates \n",
    "    for candidate in votes:\n",
    "        vote_percentage= votes[candidate] / total_votes\n",
    "        vote_percentage_change= \"{:.3%}\".format(vote_percentage)\n",
    "        percentage[candidate] = vote_percentage_change\n",
    "        \n",
    "#create a list to compare percentages for the winner \n",
    "        percentages_compare.append(vote_percentage_change)\n",
    "        compare[vote_percentage_change] = candidate\n",
    "  \n",
    "    winning_candi= compare[max(percentages_compare)] \n",
    "\n",
    "# Print results to terminal    \n",
    "print(\"\")\n",
    "print(\"Election Result\")\n",
    "print(\"-------------------------\")\n",
    "print(f\"Total votes: {total_votes}\") \n",
    "print(\"-------------------------\")\n",
    "for candidate in votes: \n",
    "    print(f\"{candidate}: {percentage[candidate]} ({votes[candidate]})\") \n",
    "print(\"-------------------------\") \n",
    "print(f\"Winner: {winning_candi}\") \n",
    "print(\"-------------------------\")"
   ]
  },
  {
   "cell_type": "code",
   "execution_count": 36,
   "metadata": {},
   "outputs": [],
   "source": [
    "#Write to analysis.txt file\n",
    "f = open(\"Analysis.txt\", \"w\")\n",
    "\n",
    "f.write(\"Election Results\\n\")\n",
    "f.write(\"----------------------------\\n\")\n",
    "f.write(f\"Total Votes: {total_votes}\\n\")\n",
    "f.write(\"-------------------------\") \n",
    "for candidate in votes: \n",
    "    f.write(f\"{candidate}: {percentage[candidate]} ({votes[candidate]})\") \n",
    "f.write(\"-------------------------\") \n",
    "f.write(f\"Winner: {winning_candi}\") \n",
    "f.write(\"----------------------------\\n\")\n",
    "f.close()"
   ]
  },
  {
   "cell_type": "code",
   "execution_count": null,
   "metadata": {},
   "outputs": [],
   "source": []
  }
 ],
 "metadata": {
  "kernelspec": {
   "display_name": "Python 3",
   "language": "python",
   "name": "python3"
  },
  "language_info": {
   "codemirror_mode": {
    "name": "ipython",
    "version": 3
   },
   "file_extension": ".py",
   "mimetype": "text/x-python",
   "name": "python",
   "nbconvert_exporter": "python",
   "pygments_lexer": "ipython3",
   "version": "3.7.6"
  }
 },
 "nbformat": 4,
 "nbformat_minor": 4
}
